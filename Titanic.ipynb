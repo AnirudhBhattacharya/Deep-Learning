{
 "cells": [
  {
   "cell_type": "markdown",
   "id": "e5910ffb-b796-471e-8a17-2979e89f8d01",
   "metadata": {},
   "source": [
    "# **Titanic Kaggle Challenge**"
   ]
  },
  {
   "cell_type": "markdown",
   "id": "a08b6f88-f207-4322-93cf-94423576f394",
   "metadata": {},
   "source": [
    "## Step1: Importing libraries and Dataset"
   ]
  },
  {
   "cell_type": "code",
   "execution_count": 1,
   "id": "faf2bb71-4cc5-4d9c-8fae-66e786fb8a76",
   "metadata": {},
   "outputs": [],
   "source": [
    "import numpy as np\n",
    "import pandas as pd\n",
    "import seaborn as sns\n",
    "import matplotlib.pyplot as plt\n",
    "%matplotlib inline"
   ]
  },
  {
   "cell_type": "code",
   "execution_count": 2,
   "id": "6dbe1b83-d964-4ec3-bd3d-1a767583e456",
   "metadata": {},
   "outputs": [
    {
     "data": {
      "text/html": [
       "<div>\n",
       "<style scoped>\n",
       "    .dataframe tbody tr th:only-of-type {\n",
       "        vertical-align: middle;\n",
       "    }\n",
       "\n",
       "    .dataframe tbody tr th {\n",
       "        vertical-align: top;\n",
       "    }\n",
       "\n",
       "    .dataframe thead th {\n",
       "        text-align: right;\n",
       "    }\n",
       "</style>\n",
       "<table border=\"1\" class=\"dataframe\">\n",
       "  <thead>\n",
       "    <tr style=\"text-align: right;\">\n",
       "      <th></th>\n",
       "      <th>PassengerId</th>\n",
       "      <th>Survived</th>\n",
       "      <th>Pclass</th>\n",
       "      <th>Name</th>\n",
       "      <th>Sex</th>\n",
       "      <th>Age</th>\n",
       "      <th>SibSp</th>\n",
       "      <th>Parch</th>\n",
       "      <th>Ticket</th>\n",
       "      <th>Fare</th>\n",
       "      <th>Cabin</th>\n",
       "      <th>Embarked</th>\n",
       "    </tr>\n",
       "  </thead>\n",
       "  <tbody>\n",
       "    <tr>\n",
       "      <th>0</th>\n",
       "      <td>1</td>\n",
       "      <td>0</td>\n",
       "      <td>3</td>\n",
       "      <td>Braund, Mr. Owen Harris</td>\n",
       "      <td>male</td>\n",
       "      <td>22.0</td>\n",
       "      <td>1</td>\n",
       "      <td>0</td>\n",
       "      <td>A/5 21171</td>\n",
       "      <td>7.2500</td>\n",
       "      <td>NaN</td>\n",
       "      <td>S</td>\n",
       "    </tr>\n",
       "    <tr>\n",
       "      <th>1</th>\n",
       "      <td>2</td>\n",
       "      <td>1</td>\n",
       "      <td>1</td>\n",
       "      <td>Cumings, Mrs. John Bradley (Florence Briggs Th...</td>\n",
       "      <td>female</td>\n",
       "      <td>38.0</td>\n",
       "      <td>1</td>\n",
       "      <td>0</td>\n",
       "      <td>PC 17599</td>\n",
       "      <td>71.2833</td>\n",
       "      <td>C85</td>\n",
       "      <td>C</td>\n",
       "    </tr>\n",
       "    <tr>\n",
       "      <th>2</th>\n",
       "      <td>3</td>\n",
       "      <td>1</td>\n",
       "      <td>3</td>\n",
       "      <td>Heikkinen, Miss. Laina</td>\n",
       "      <td>female</td>\n",
       "      <td>26.0</td>\n",
       "      <td>0</td>\n",
       "      <td>0</td>\n",
       "      <td>STON/O2. 3101282</td>\n",
       "      <td>7.9250</td>\n",
       "      <td>NaN</td>\n",
       "      <td>S</td>\n",
       "    </tr>\n",
       "    <tr>\n",
       "      <th>3</th>\n",
       "      <td>4</td>\n",
       "      <td>1</td>\n",
       "      <td>1</td>\n",
       "      <td>Futrelle, Mrs. Jacques Heath (Lily May Peel)</td>\n",
       "      <td>female</td>\n",
       "      <td>35.0</td>\n",
       "      <td>1</td>\n",
       "      <td>0</td>\n",
       "      <td>113803</td>\n",
       "      <td>53.1000</td>\n",
       "      <td>C123</td>\n",
       "      <td>S</td>\n",
       "    </tr>\n",
       "    <tr>\n",
       "      <th>4</th>\n",
       "      <td>5</td>\n",
       "      <td>0</td>\n",
       "      <td>3</td>\n",
       "      <td>Allen, Mr. William Henry</td>\n",
       "      <td>male</td>\n",
       "      <td>35.0</td>\n",
       "      <td>0</td>\n",
       "      <td>0</td>\n",
       "      <td>373450</td>\n",
       "      <td>8.0500</td>\n",
       "      <td>NaN</td>\n",
       "      <td>S</td>\n",
       "    </tr>\n",
       "  </tbody>\n",
       "</table>\n",
       "</div>"
      ],
      "text/plain": [
       "   PassengerId  Survived  Pclass  \\\n",
       "0            1         0       3   \n",
       "1            2         1       1   \n",
       "2            3         1       3   \n",
       "3            4         1       1   \n",
       "4            5         0       3   \n",
       "\n",
       "                                                Name     Sex   Age  SibSp  \\\n",
       "0                            Braund, Mr. Owen Harris    male  22.0      1   \n",
       "1  Cumings, Mrs. John Bradley (Florence Briggs Th...  female  38.0      1   \n",
       "2                             Heikkinen, Miss. Laina  female  26.0      0   \n",
       "3       Futrelle, Mrs. Jacques Heath (Lily May Peel)  female  35.0      1   \n",
       "4                           Allen, Mr. William Henry    male  35.0      0   \n",
       "\n",
       "   Parch            Ticket     Fare Cabin Embarked  \n",
       "0      0         A/5 21171   7.2500   NaN        S  \n",
       "1      0          PC 17599  71.2833   C85        C  \n",
       "2      0  STON/O2. 3101282   7.9250   NaN        S  \n",
       "3      0            113803  53.1000  C123        S  \n",
       "4      0            373450   8.0500   NaN        S  "
      ]
     },
     "execution_count": 2,
     "metadata": {},
     "output_type": "execute_result"
    }
   ],
   "source": [
    "data = pd.read_csv('train.csv')\n",
    "data.head()"
   ]
  },
  {
   "cell_type": "markdown",
   "id": "40544419-2092-4e18-a64d-3fc7efac8120",
   "metadata": {},
   "source": [
    "## Step2: Exploratory Data Analysis"
   ]
  },
  {
   "cell_type": "code",
   "execution_count": 3,
   "id": "3fe6bbed-1df0-4eb9-a6fd-f233f3dae9e8",
   "metadata": {},
   "outputs": [
    {
     "data": {
      "text/plain": [
       "Index(['PassengerId', 'Survived', 'Pclass', 'Name', 'Sex', 'Age', 'SibSp',\n",
       "       'Parch', 'Ticket', 'Fare', 'Cabin', 'Embarked'],\n",
       "      dtype='object')"
      ]
     },
     "execution_count": 3,
     "metadata": {},
     "output_type": "execute_result"
    }
   ],
   "source": [
    "data.columns"
   ]
  },
  {
   "cell_type": "code",
   "execution_count": 4,
   "id": "1147ed3c-ccfc-4ec9-ade4-f44900fc19ab",
   "metadata": {},
   "outputs": [
    {
     "name": "stdout",
     "output_type": "stream",
     "text": [
      "<class 'pandas.core.frame.DataFrame'>\n",
      "RangeIndex: 891 entries, 0 to 890\n",
      "Data columns (total 12 columns):\n",
      " #   Column       Non-Null Count  Dtype  \n",
      "---  ------       --------------  -----  \n",
      " 0   PassengerId  891 non-null    int64  \n",
      " 1   Survived     891 non-null    int64  \n",
      " 2   Pclass       891 non-null    int64  \n",
      " 3   Name         891 non-null    object \n",
      " 4   Sex          891 non-null    object \n",
      " 5   Age          714 non-null    float64\n",
      " 6   SibSp        891 non-null    int64  \n",
      " 7   Parch        891 non-null    int64  \n",
      " 8   Ticket       891 non-null    object \n",
      " 9   Fare         891 non-null    float64\n",
      " 10  Cabin        204 non-null    object \n",
      " 11  Embarked     889 non-null    object \n",
      "dtypes: float64(2), int64(5), object(5)\n",
      "memory usage: 83.7+ KB\n"
     ]
    }
   ],
   "source": [
    "data.info()"
   ]
  },
  {
   "cell_type": "code",
   "execution_count": 5,
   "id": "90b50f0a-881b-4f22-b525-b69d15b916b5",
   "metadata": {},
   "outputs": [
    {
     "data": {
      "text/plain": [
       "PassengerId      0\n",
       "Survived         0\n",
       "Pclass           0\n",
       "Name             0\n",
       "Sex              0\n",
       "Age            177\n",
       "SibSp            0\n",
       "Parch            0\n",
       "Ticket           0\n",
       "Fare             0\n",
       "Cabin          687\n",
       "Embarked         2\n",
       "dtype: int64"
      ]
     },
     "execution_count": 5,
     "metadata": {},
     "output_type": "execute_result"
    }
   ],
   "source": [
    "data.isnull().sum()"
   ]
  },
  {
   "cell_type": "code",
   "execution_count": 6,
   "id": "48fb044a-6e75-4aa5-8b01-ae7fce57f5e3",
   "metadata": {},
   "outputs": [
    {
     "data": {
      "text/html": [
       "<div>\n",
       "<style scoped>\n",
       "    .dataframe tbody tr th:only-of-type {\n",
       "        vertical-align: middle;\n",
       "    }\n",
       "\n",
       "    .dataframe tbody tr th {\n",
       "        vertical-align: top;\n",
       "    }\n",
       "\n",
       "    .dataframe thead th {\n",
       "        text-align: right;\n",
       "    }\n",
       "</style>\n",
       "<table border=\"1\" class=\"dataframe\">\n",
       "  <thead>\n",
       "    <tr style=\"text-align: right;\">\n",
       "      <th></th>\n",
       "      <th>count</th>\n",
       "      <th>mean</th>\n",
       "      <th>std</th>\n",
       "      <th>min</th>\n",
       "      <th>25%</th>\n",
       "      <th>50%</th>\n",
       "      <th>75%</th>\n",
       "      <th>max</th>\n",
       "    </tr>\n",
       "  </thead>\n",
       "  <tbody>\n",
       "    <tr>\n",
       "      <th>PassengerId</th>\n",
       "      <td>891.0</td>\n",
       "      <td>446.000000</td>\n",
       "      <td>257.353842</td>\n",
       "      <td>1.00</td>\n",
       "      <td>223.5000</td>\n",
       "      <td>446.0000</td>\n",
       "      <td>668.5</td>\n",
       "      <td>891.0000</td>\n",
       "    </tr>\n",
       "    <tr>\n",
       "      <th>Survived</th>\n",
       "      <td>891.0</td>\n",
       "      <td>0.383838</td>\n",
       "      <td>0.486592</td>\n",
       "      <td>0.00</td>\n",
       "      <td>0.0000</td>\n",
       "      <td>0.0000</td>\n",
       "      <td>1.0</td>\n",
       "      <td>1.0000</td>\n",
       "    </tr>\n",
       "    <tr>\n",
       "      <th>Pclass</th>\n",
       "      <td>891.0</td>\n",
       "      <td>2.308642</td>\n",
       "      <td>0.836071</td>\n",
       "      <td>1.00</td>\n",
       "      <td>2.0000</td>\n",
       "      <td>3.0000</td>\n",
       "      <td>3.0</td>\n",
       "      <td>3.0000</td>\n",
       "    </tr>\n",
       "    <tr>\n",
       "      <th>Age</th>\n",
       "      <td>714.0</td>\n",
       "      <td>29.699118</td>\n",
       "      <td>14.526497</td>\n",
       "      <td>0.42</td>\n",
       "      <td>20.1250</td>\n",
       "      <td>28.0000</td>\n",
       "      <td>38.0</td>\n",
       "      <td>80.0000</td>\n",
       "    </tr>\n",
       "    <tr>\n",
       "      <th>SibSp</th>\n",
       "      <td>891.0</td>\n",
       "      <td>0.523008</td>\n",
       "      <td>1.102743</td>\n",
       "      <td>0.00</td>\n",
       "      <td>0.0000</td>\n",
       "      <td>0.0000</td>\n",
       "      <td>1.0</td>\n",
       "      <td>8.0000</td>\n",
       "    </tr>\n",
       "    <tr>\n",
       "      <th>Parch</th>\n",
       "      <td>891.0</td>\n",
       "      <td>0.381594</td>\n",
       "      <td>0.806057</td>\n",
       "      <td>0.00</td>\n",
       "      <td>0.0000</td>\n",
       "      <td>0.0000</td>\n",
       "      <td>0.0</td>\n",
       "      <td>6.0000</td>\n",
       "    </tr>\n",
       "    <tr>\n",
       "      <th>Fare</th>\n",
       "      <td>891.0</td>\n",
       "      <td>32.204208</td>\n",
       "      <td>49.693429</td>\n",
       "      <td>0.00</td>\n",
       "      <td>7.9104</td>\n",
       "      <td>14.4542</td>\n",
       "      <td>31.0</td>\n",
       "      <td>512.3292</td>\n",
       "    </tr>\n",
       "  </tbody>\n",
       "</table>\n",
       "</div>"
      ],
      "text/plain": [
       "             count        mean         std   min       25%       50%    75%  \\\n",
       "PassengerId  891.0  446.000000  257.353842  1.00  223.5000  446.0000  668.5   \n",
       "Survived     891.0    0.383838    0.486592  0.00    0.0000    0.0000    1.0   \n",
       "Pclass       891.0    2.308642    0.836071  1.00    2.0000    3.0000    3.0   \n",
       "Age          714.0   29.699118   14.526497  0.42   20.1250   28.0000   38.0   \n",
       "SibSp        891.0    0.523008    1.102743  0.00    0.0000    0.0000    1.0   \n",
       "Parch        891.0    0.381594    0.806057  0.00    0.0000    0.0000    0.0   \n",
       "Fare         891.0   32.204208   49.693429  0.00    7.9104   14.4542   31.0   \n",
       "\n",
       "                  max  \n",
       "PassengerId  891.0000  \n",
       "Survived       1.0000  \n",
       "Pclass         3.0000  \n",
       "Age           80.0000  \n",
       "SibSp          8.0000  \n",
       "Parch          6.0000  \n",
       "Fare         512.3292  "
      ]
     },
     "execution_count": 6,
     "metadata": {},
     "output_type": "execute_result"
    }
   ],
   "source": [
    "data.describe().transpose()"
   ]
  },
  {
   "cell_type": "code",
   "execution_count": 7,
   "id": "1f0c8055-b62d-4c24-8718-7c3ca00697b4",
   "metadata": {},
   "outputs": [
    {
     "data": {
      "text/plain": [
       "681"
      ]
     },
     "execution_count": 7,
     "metadata": {},
     "output_type": "execute_result"
    }
   ],
   "source": [
    "data['Ticket'].nunique()"
   ]
  },
  {
   "cell_type": "markdown",
   "id": "15f70ee3-a42e-4b21-80da-f4079691506a",
   "metadata": {},
   "source": [
    "### Starting Observations:\n",
    "   - There are a mix of numerical and categorical values in the dataset. Need to convert the categorical into numerical\n",
    "   - **PassengerId** and **Name** column does not provide any useful information w.r.t survival rate and thus needs to be dropped\n",
    "   - **Age**, **Cabin**, **Embarked** columns have null values. Either fix the missing values or drop the columns based on their relevance of impacting the passenger survival rate.\n",
    "   - **Ticket** column has 681 unique values and provides no useful information. Thus it also needs to be dropped.\n",
    "   - Analysing survival based on other features required to understand the correlation between them and passenger survival.\n",
    "   <br>"
   ]
  },
  {
   "cell_type": "markdown",
   "id": "f504c508-72c4-4bcf-bf9c-22be9747834f",
   "metadata": {},
   "source": [
    "### Age"
   ]
  },
  {
   "cell_type": "code",
   "execution_count": 8,
   "id": "2dd6f7e3-1330-456f-813b-3f28526b1fd8",
   "metadata": {},
   "outputs": [
    {
     "data": {
      "image/png": "[encoded data removed]",
      "text/plain": [
       "<Figure size 432x288 with 1 Axes>"
      ]
     },
     "metadata": {
      "needs_background": "light"
     },
     "output_type": "display_data"
    }
   ],
   "source": [
    "# Plotting distribution for Fare among passengers\n",
    "Age_data = data['Age']\n",
    "sns.histplot(data = Age_data)\n",
    "plt.title('Distribution of Ages')\n",
    "plt.show()"
   ]
  },
  {
   "cell_type": "markdown",
   "id": "6110f222-5df4-41a8-9899-d4cc7eadeb4a",
   "metadata": {},
   "source": [
    "## Cabin"
   ]
  },
  {
   "cell_type": "code",
   "execution_count": 9,
   "id": "58b86faa-a4b9-4b46-a67c-826d8a0143d7",
   "metadata": {},
   "outputs": [
    {
     "name": "stdout",
     "output_type": "stream",
     "text": [
      "There were 147 Cabins in Titanic that were allocated to passengers\n"
     ]
    }
   ],
   "source": [
    "print('There were {} Cabins in Titanic that were allocated to passengers'.format(data['Cabin'].nunique()))"
   ]
  },
  {
   "cell_type": "code",
   "execution_count": 10,
   "id": "1d48aec7-56e0-44a5-abf5-fb112a106fa5",
   "metadata": {},
   "outputs": [],
   "source": [
    "# Converting to numerical based on whether or not a passenger had an allocated Cabin\n",
    "\n",
    "data['Cabin'] = data['Cabin'].apply(lambda x:0 if pd.isnull(x) else 1)"
   ]
  },
  {
   "cell_type": "code",
   "execution_count": 11,
   "id": "96f79573-89ca-4b33-9665-a1bc35030171",
   "metadata": {},
   "outputs": [
    {
     "name": "stdout",
     "output_type": "stream",
     "text": [
      "Out of 342 passengers survived, 136 were holding a Cabin and 206 were without a Cabin\n",
      "Another perspective is that survival rate among cabin holders was 66.67% ,whereas only 29.99% in case of passengers without a cabin\n"
     ]
    },
    {
     "data": {
      "image/png": "[encoded data removed]",
      "text/plain": [
       "<Figure size 432x288 with 1 Axes>"
      ]
     },
     "metadata": {
      "needs_background": "light"
     },
     "output_type": "display_data"
    }
   ],
   "source": [
    "# Visualisation \n",
    "\n",
    "ax = sns.countplot(x='Survived', hue='Cabin', data=data)\n",
    "ax.set(title='Survival Rate vs Cabin Allocated')\n",
    "for container in ax.containers:\n",
    "    ax.bar_label(container)\n",
    "    \n",
    "\n",
    "# Analysing Survival as compared to holding a cabin or not\n",
    "\n",
    "cabin_passengers = len(data[data['Cabin'] == 1])\n",
    "non_cabin_passengers = len(data) - cabin_passengers\n",
    "\n",
    "cabin_passengers_survived = len(data[(data['Cabin'] == 1) & (data['Survived'] == 1)])\n",
    "non_cabin_passengers_survived = len(data[(data['Cabin'] == 0) & (data['Survived'] == 1)])\n",
    "survived_passengers = len(data[data['Survived'] == 1])\n",
    "\n",
    "percent_cabin_passengers_survived = \"{:.2f}\".format(100 * (cabin_passengers_survived / cabin_passengers))\n",
    "percent_non_cabin_passengers_survived = \"{:.2f}\".format(100 * (non_cabin_passengers_survived / non_cabin_passengers))\n",
    "\n",
    "\n",
    "print('Out of {} passengers survived, {} were holding a Cabin and {} were without a Cabin'.format(survived_passengers,cabin_passengers_survived,\n",
    "                                                                                                  non_cabin_passengers_survived))\n",
    "\n",
    "print('Another perspective is that survival rate among cabin holders was {}% ,whereas only {}% in case of passengers without a cabin'.format(percent_cabin_passengers_survived,\n",
    "                                                                                                            percent_non_cabin_passengers_survived))"
   ]
  },
  {
   "cell_type": "markdown",
   "id": "f56b261e-5189-4a2b-bb04-14421e11526e",
   "metadata": {},
   "source": [
    "<br>"
   ]
  },
  {
   "cell_type": "markdown",
   "id": "387d8dbf-fb9a-4655-b0e5-ce52cf8fe097",
   "metadata": {},
   "source": [
    "### Port of Embarkation"
   ]
  },
  {
   "cell_type": "code",
   "execution_count": 12,
   "id": "06f7debd-3c87-43e3-8c02-87245fdb3e2a",
   "metadata": {},
   "outputs": [
    {
     "name": "stdout",
     "output_type": "stream",
     "text": [
      "There were 3 ports of embarkation for the passengers\n"
     ]
    }
   ],
   "source": [
    "print('There were {} ports of embarkation for the passengers'.format(data['Embarked'].nunique()))"
   ]
  },
  {
   "cell_type": "code",
   "execution_count": 13,
   "id": "a482db1b-abdf-4058-a95f-16c910f42322",
   "metadata": {},
   "outputs": [
    {
     "data": {
      "image/png": "[encoded data removed]",
      "text/plain": [
       "<Figure size 432x288 with 1 Axes>"
      ]
     },
     "metadata": {
      "needs_background": "light"
     },
     "output_type": "display_data"
    }
   ],
   "source": [
    "# Visualisation \n",
    "\n",
    "ax = sns.countplot(x='Survived', hue='Embarked', data=data)\n",
    "ax.set(title='Survival Rate vs Port of Embarkation')\n",
    "for container in ax.containers:\n",
    "    ax.bar_label(container)"
   ]
  },
  {
   "cell_type": "code",
   "execution_count": 14,
   "id": "988ef642-8e21-466a-8aa8-5ed9b4b112d5",
   "metadata": {},
   "outputs": [],
   "source": [
    "# Dropping 2 missing values\n",
    "data['Embarked'].dropna(inplace=True)\n",
    "\n",
    "# One Hot encoding\n",
    "data['Embarked'] = data['Embarked'].map({'S':'Embarked_Southampton','C':'Emabrked_Cherbough','Q':'Embarked_Queenstown'})\n",
    "embark_dummies = pd.get_dummies(data['Embarked'])\n",
    "data = data.join(embark_dummies)\n",
    "data.drop(labels='Embarked',axis=1,inplace=True)"
   ]
  },
  {
   "cell_type": "code",
   "execution_count": 15,
   "id": "a752d3d1-cf7c-44fd-a093-407c253a03e4",
   "metadata": {},
   "outputs": [
    {
     "data": {
      "text/plain": [
       "0      0\n",
       "1      1\n",
       "2      0\n",
       "3      0\n",
       "4      0\n",
       "      ..\n",
       "886    0\n",
       "887    0\n",
       "888    0\n",
       "889    1\n",
       "890    0\n",
       "Name: Emabrked_Cherbough, Length: 891, dtype: uint8"
      ]
     },
     "execution_count": 15,
     "metadata": {},
     "output_type": "execute_result"
    }
   ],
   "source": [
    "data['Emabrked_Cherbough']"
   ]
  },
  {
   "cell_type": "code",
   "execution_count": null,
   "id": "bdb98443-105e-4cbd-81b3-352c0a3dd429",
   "metadata": {},
   "outputs": [],
   "source": []
  },
  {
   "cell_type": "code",
   "execution_count": null,
   "id": "494914ce-be2b-4c14-af57-a1720085895b",
   "metadata": {},
   "outputs": [],
   "source": []
  },
  {
   "cell_type": "markdown",
   "id": "ce6f1c34-9d05-4ce8-a834-e43ddf7c7e2e",
   "metadata": {},
   "source": [
    "<br>"
   ]
  },
  {
   "cell_type": "markdown",
   "id": "7fba299f-466c-42c3-9083-1cbd5ceef23a",
   "metadata": {},
   "source": [
    "### Sex"
   ]
  },
  {
   "cell_type": "code",
   "execution_count": 16,
   "id": "d813ae32-02dd-4ff9-90ad-288b2c9267c3",
   "metadata": {},
   "outputs": [
    {
     "data": {
      "image/png": "[encoded data removed]",
      "text/plain": [
       "<Figure size 432x288 with 1 Axes>"
      ]
     },
     "metadata": {
      "needs_background": "light"
     },
     "output_type": "display_data"
    }
   ],
   "source": [
    "# Visualisation \n",
    "\n",
    "ax = sns.countplot(x='Survived', hue='Sex', data=data)\n",
    "ax.set(title='Survival Rate vs Gender')\n",
    "for container in ax.containers:\n",
    "    ax.bar_label(container)"
   ]
  },
  {
   "cell_type": "code",
   "execution_count": 17,
   "id": "1baf523f-80f7-4f39-9f95-3c9a61c9fdf7",
   "metadata": {},
   "outputs": [],
   "source": [
    "# One Hot encoding\n",
    "\n",
    "gender_dummies = pd.get_dummies(data['Sex'])\n",
    "data = data.join(gender_dummies)\n",
    "data.drop(labels='Sex',axis=1,inplace=True)"
   ]
  },
  {
   "cell_type": "markdown",
   "id": "7c5f5fe1-6da9-430a-b169-4349e6d0de42",
   "metadata": {},
   "source": [
    "<br>"
   ]
  },
  {
   "cell_type": "markdown",
   "id": "62c3813b-a1b9-42bd-ac27-0ff57809ddda",
   "metadata": {},
   "source": [
    "### Ticket Class"
   ]
  },
  {
   "cell_type": "code",
   "execution_count": 18,
   "id": "1147fd5a-17d5-4304-85eb-fa163454de47",
   "metadata": {},
   "outputs": [
    {
     "data": {
      "image/png": "[encoded data removed]",
      "text/plain": [
       "<Figure size 432x288 with 1 Axes>"
      ]
     },
     "metadata": {
      "needs_background": "light"
     },
     "output_type": "display_data"
    }
   ],
   "source": [
    "# Visualisation \n",
    "\n",
    "ax = sns.countplot(x='Survived', hue='Pclass', data=data)\n",
    "for container in ax.containers:\n",
    "    ax.bar_label(container)"
   ]
  },
  {
   "cell_type": "code",
   "execution_count": null,
   "id": "cf10998f-678b-4513-9c84-cf3aaa5c7d3b",
   "metadata": {},
   "outputs": [],
   "source": []
  },
  {
   "cell_type": "markdown",
   "id": "e59d1059-c433-444d-b488-1a5c1d8bee84",
   "metadata": {},
   "source": [
    "### Sibsp"
   ]
  },
  {
   "cell_type": "code",
   "execution_count": 19,
   "id": "6cc552d2-e768-4a33-927d-a8c6ff547f43",
   "metadata": {},
   "outputs": [
    {
     "data": {
      "image/png": "[encoded data removed]",
      "text/plain": [
       "<Figure size 432x288 with 1 Axes>"
      ]
     },
     "metadata": {
      "needs_background": "light"
     },
     "output_type": "display_data"
    }
   ],
   "source": [
    "sns.countplot(x=data['SibSp'])\n",
    "plt.title('Distribution of number of siblings/spouses aboard')\n",
    "plt.show()"
   ]
  },
  {
   "cell_type": "markdown",
   "id": "a286a457-e7e9-4bb9-8fe7-3c5fc9a86a10",
   "metadata": {},
   "source": [
    "### Parch"
   ]
  },
  {
   "cell_type": "code",
   "execution_count": 20,
   "id": "b1cc162c-d0be-4ec4-9947-b28ddf4d8375",
   "metadata": {},
   "outputs": [
    {
     "data": {
      "image/png": "[encoded data removed]",
      "text/plain": [
       "<Figure size 432x288 with 1 Axes>"
      ]
     },
     "metadata": {
      "needs_background": "light"
     },
     "output_type": "display_data"
    }
   ],
   "source": [
    "sns.countplot(x=data['Parch'])\n",
    "plt.title('Distribution of number of parents/children aboard')\n",
    "plt.show()"
   ]
  },
  {
   "cell_type": "markdown",
   "id": "44220a18-6720-43ba-91a4-f7284c0b9863",
   "metadata": {},
   "source": [
    "<br>"
   ]
  },
  {
   "cell_type": "markdown",
   "id": "5ba15f02-9bfc-45c4-af18-54044f9c9386",
   "metadata": {},
   "source": [
    "### Fare"
   ]
  },
  {
   "cell_type": "code",
   "execution_count": 21,
   "id": "bb7103e7-4cdd-4278-a289-ea8accb1b099",
   "metadata": {},
   "outputs": [
    {
     "data": {
      "image/png": "[encoded data removed]",
      "text/plain": [
       "<Figure size 432x288 with 1 Axes>"
      ]
     },
     "metadata": {
      "needs_background": "light"
     },
     "output_type": "display_data"
    },
    {
     "name": "stdout",
     "output_type": "stream",
     "text": [
      "336 passengers payed less than 10 dollars for their ticket\n",
      "502 passengers payed between 10 and 100 dollars for their ticket\n",
      "53 passengers payed more than 50 dollars for their ticket\n"
     ]
    }
   ],
   "source": [
    "# Plotting distribution for Fare among passengers\n",
    "Fare_data = data['Fare']\n",
    "sns.histplot(data = Fare_data)\n",
    "plt.title('Distribution of fares')\n",
    "plt.show()\n",
    "\n",
    "print('{} passengers payed less than 10 dollars for their ticket'.format(np.count_nonzero(Fare_data < 10)))\n",
    "print('{} passengers payed between 10 and 100 dollars for their ticket'.format(np.count_nonzero((Fare_data >= 10) & (Fare_data <= 100))))\n",
    "print('{} passengers payed more than 50 dollars for their ticket'.format(np.count_nonzero(Fare_data > 100)))"
   ]
  },
  {
   "cell_type": "code",
   "execution_count": 22,
   "id": "e16d75bb-db63-47df-aef2-98c175699e61",
   "metadata": {},
   "outputs": [
    {
     "data": {
      "text/plain": [
       "Text(0.5, 1.0, 'Heatmap for correlation between columns of training data')"
      ]
     },
     "execution_count": 22,
     "metadata": {},
     "output_type": "execute_result"
    },
    {
     "data": {
      "image/png": "[encoded data removed]",
      "text/plain": [
       "<Figure size 864x576 with 2 Axes>"
      ]
     },
     "metadata": {
      "needs_background": "light"
     },
     "output_type": "display_data"
    }
   ],
   "source": [
    "fig, ax = plt.subplots(figsize=(12,8)) \n",
    "\n",
    "sns.heatmap((data[[\n",
    "            'PassengerId', \n",
    "            'Survived', \n",
    "            'Age',\n",
    "            'SibSp',\n",
    "            'Parch',\n",
    "            'Fare',\n",
    "            'Cabin',\n",
    "            'Pclass',\n",
    "            'Embarked_Southampton',\n",
    "            'Emabrked_Cherbough',\n",
    "            'Embarked_Queenstown',\n",
    "            ]].corr()),\n",
    "            linewidths=1,\n",
    "            cmap=plt.cm.Blues, \n",
    "            annot=True,\n",
    "            ax=ax)\n",
    "\n",
    "plt.title('Heatmap for correlation between columns of training data')"
   ]
  },
  {
   "cell_type": "code",
   "execution_count": null,
   "id": "4feb4882-dc1f-4929-a460-b3ef67ed72ca",
   "metadata": {},
   "outputs": [],
   "source": []
  },
  {
   "cell_type": "markdown",
   "id": "70c6803e-96eb-49e6-bfd0-4f33ae6603d1",
   "metadata": {},
   "source": [
    "## Step3: Feature Engineering"
   ]
  },
  {
   "cell_type": "markdown",
   "id": "c563d6b9-eb9e-4a0a-ab38-363fdff9028d",
   "metadata": {},
   "source": [
    "### Dropping Irrelevant Columns"
   ]
  },
  {
   "cell_type": "code",
   "execution_count": 23,
   "id": "d1996b91-9ba1-40e2-b00d-1bf644a624ec",
   "metadata": {},
   "outputs": [
    {
     "data": {
      "text/html": [
       "<div>\n",
       "<style scoped>\n",
       "    .dataframe tbody tr th:only-of-type {\n",
       "        vertical-align: middle;\n",
       "    }\n",
       "\n",
       "    .dataframe tbody tr th {\n",
       "        vertical-align: top;\n",
       "    }\n",
       "\n",
       "    .dataframe thead th {\n",
       "        text-align: right;\n",
       "    }\n",
       "</style>\n",
       "<table border=\"1\" class=\"dataframe\">\n",
       "  <thead>\n",
       "    <tr style=\"text-align: right;\">\n",
       "      <th></th>\n",
       "      <th>Survived</th>\n",
       "      <th>Pclass</th>\n",
       "      <th>Age</th>\n",
       "      <th>SibSp</th>\n",
       "      <th>Parch</th>\n",
       "      <th>Fare</th>\n",
       "      <th>Cabin</th>\n",
       "      <th>Emabrked_Cherbough</th>\n",
       "      <th>Embarked_Queenstown</th>\n",
       "      <th>Embarked_Southampton</th>\n",
       "      <th>female</th>\n",
       "      <th>male</th>\n",
       "    </tr>\n",
       "  </thead>\n",
       "  <tbody>\n",
       "    <tr>\n",
       "      <th>0</th>\n",
       "      <td>0</td>\n",
       "      <td>3</td>\n",
       "      <td>22.0</td>\n",
       "      <td>1</td>\n",
       "      <td>0</td>\n",
       "      <td>7.2500</td>\n",
       "      <td>0</td>\n",
       "      <td>0</td>\n",
       "      <td>0</td>\n",
       "      <td>1</td>\n",
       "      <td>0</td>\n",
       "      <td>1</td>\n",
       "    </tr>\n",
       "    <tr>\n",
       "      <th>1</th>\n",
       "      <td>1</td>\n",
       "      <td>1</td>\n",
       "      <td>38.0</td>\n",
       "      <td>1</td>\n",
       "      <td>0</td>\n",
       "      <td>71.2833</td>\n",
       "      <td>1</td>\n",
       "      <td>1</td>\n",
       "      <td>0</td>\n",
       "      <td>0</td>\n",
       "      <td>1</td>\n",
       "      <td>0</td>\n",
       "    </tr>\n",
       "    <tr>\n",
       "      <th>2</th>\n",
       "      <td>1</td>\n",
       "      <td>3</td>\n",
       "      <td>26.0</td>\n",
       "      <td>0</td>\n",
       "      <td>0</td>\n",
       "      <td>7.9250</td>\n",
       "      <td>0</td>\n",
       "      <td>0</td>\n",
       "      <td>0</td>\n",
       "      <td>1</td>\n",
       "      <td>1</td>\n",
       "      <td>0</td>\n",
       "    </tr>\n",
       "    <tr>\n",
       "      <th>3</th>\n",
       "      <td>1</td>\n",
       "      <td>1</td>\n",
       "      <td>35.0</td>\n",
       "      <td>1</td>\n",
       "      <td>0</td>\n",
       "      <td>53.1000</td>\n",
       "      <td>1</td>\n",
       "      <td>0</td>\n",
       "      <td>0</td>\n",
       "      <td>1</td>\n",
       "      <td>1</td>\n",
       "      <td>0</td>\n",
       "    </tr>\n",
       "    <tr>\n",
       "      <th>4</th>\n",
       "      <td>0</td>\n",
       "      <td>3</td>\n",
       "      <td>35.0</td>\n",
       "      <td>0</td>\n",
       "      <td>0</td>\n",
       "      <td>8.0500</td>\n",
       "      <td>0</td>\n",
       "      <td>0</td>\n",
       "      <td>0</td>\n",
       "      <td>1</td>\n",
       "      <td>0</td>\n",
       "      <td>1</td>\n",
       "    </tr>\n",
       "  </tbody>\n",
       "</table>\n",
       "</div>"
      ],
      "text/plain": [
       "   Survived  Pclass   Age  SibSp  Parch     Fare  Cabin  Emabrked_Cherbough  \\\n",
       "0         0       3  22.0      1      0   7.2500      0                   0   \n",
       "1         1       1  38.0      1      0  71.2833      1                   1   \n",
       "2         1       3  26.0      0      0   7.9250      0                   0   \n",
       "3         1       1  35.0      1      0  53.1000      1                   0   \n",
       "4         0       3  35.0      0      0   8.0500      0                   0   \n",
       "\n",
       "   Embarked_Queenstown  Embarked_Southampton  female  male  \n",
       "0                    0                     1       0     1  \n",
       "1                    0                     0       1     0  \n",
       "2                    0                     1       1     0  \n",
       "3                    0                     1       1     0  \n",
       "4                    0                     1       0     1  "
      ]
     },
     "execution_count": 23,
     "metadata": {},
     "output_type": "execute_result"
    }
   ],
   "source": [
    "data = data.drop(labels=['Name','PassengerId','Ticket'],axis=1)\n",
    "data.head()"
   ]
  },
  {
   "cell_type": "markdown",
   "id": "2e5df564-f786-4d5d-b339-cb8b21f19b5a",
   "metadata": {},
   "source": [
    "### Filling missing data for continuous data column"
   ]
  },
  {
   "cell_type": "code",
   "execution_count": 24,
   "id": "8c49c620-c191-43af-a39c-2d9bbe545496",
   "metadata": {},
   "outputs": [],
   "source": [
    "data['Age'] = data['Age'].fillna(value=data['Age'].median())"
   ]
  },
  {
   "cell_type": "markdown",
   "id": "ad9c3ef3-3c25-4741-a7ff-764772bfae51",
   "metadata": {},
   "source": [
    "<br>"
   ]
  },
  {
   "cell_type": "markdown",
   "id": "4cf945ed-9bbf-41bc-bea7-f1af06e9452c",
   "metadata": {},
   "source": [
    "### One Hot Encoding for other categorical data columns"
   ]
  },
  {
   "cell_type": "code",
   "execution_count": null,
   "id": "c5e8acba-f1cd-4f4c-b938-44d7a942a328",
   "metadata": {},
   "outputs": [],
   "source": []
  },
  {
   "cell_type": "code",
   "execution_count": null,
   "id": "78d9337b-0db9-4af1-b9af-565343714859",
   "metadata": {},
   "outputs": [],
   "source": []
  },
  {
   "cell_type": "raw",
   "id": "70fca88d-fbe9-49a7-b81b-a3e1ea654c1a",
   "metadata": {},
   "source": [
    "data = pd.get_dummies(data[['Survived', 'Pclass', 'Sex', 'Age', 'SibSp',\n",
    "                                   'Parch', 'Fare', 'Cabin', 'Embarked_Southampton',\n",
    "                                    'Emabrked_Cherbough', 'Embarked_Queenstown']])"
   ]
  },
  {
   "cell_type": "code",
   "execution_count": 25,
   "id": "cd36c090-087d-4e1a-be40-f06861c4f6c4",
   "metadata": {},
   "outputs": [
    {
     "data": {
      "text/html": [
       "<div>\n",
       "<style scoped>\n",
       "    .dataframe tbody tr th:only-of-type {\n",
       "        vertical-align: middle;\n",
       "    }\n",
       "\n",
       "    .dataframe tbody tr th {\n",
       "        vertical-align: top;\n",
       "    }\n",
       "\n",
       "    .dataframe thead th {\n",
       "        text-align: right;\n",
       "    }\n",
       "</style>\n",
       "<table border=\"1\" class=\"dataframe\">\n",
       "  <thead>\n",
       "    <tr style=\"text-align: right;\">\n",
       "      <th></th>\n",
       "      <th>Survived</th>\n",
       "      <th>Pclass</th>\n",
       "      <th>Age</th>\n",
       "      <th>SibSp</th>\n",
       "      <th>Parch</th>\n",
       "      <th>Fare</th>\n",
       "      <th>Cabin</th>\n",
       "      <th>Emabrked_Cherbough</th>\n",
       "      <th>Embarked_Queenstown</th>\n",
       "      <th>Embarked_Southampton</th>\n",
       "      <th>female</th>\n",
       "      <th>male</th>\n",
       "    </tr>\n",
       "  </thead>\n",
       "  <tbody>\n",
       "    <tr>\n",
       "      <th>0</th>\n",
       "      <td>0</td>\n",
       "      <td>3</td>\n",
       "      <td>22.0</td>\n",
       "      <td>1</td>\n",
       "      <td>0</td>\n",
       "      <td>7.2500</td>\n",
       "      <td>0</td>\n",
       "      <td>0</td>\n",
       "      <td>0</td>\n",
       "      <td>1</td>\n",
       "      <td>0</td>\n",
       "      <td>1</td>\n",
       "    </tr>\n",
       "    <tr>\n",
       "      <th>1</th>\n",
       "      <td>1</td>\n",
       "      <td>1</td>\n",
       "      <td>38.0</td>\n",
       "      <td>1</td>\n",
       "      <td>0</td>\n",
       "      <td>71.2833</td>\n",
       "      <td>1</td>\n",
       "      <td>1</td>\n",
       "      <td>0</td>\n",
       "      <td>0</td>\n",
       "      <td>1</td>\n",
       "      <td>0</td>\n",
       "    </tr>\n",
       "    <tr>\n",
       "      <th>2</th>\n",
       "      <td>1</td>\n",
       "      <td>3</td>\n",
       "      <td>26.0</td>\n",
       "      <td>0</td>\n",
       "      <td>0</td>\n",
       "      <td>7.9250</td>\n",
       "      <td>0</td>\n",
       "      <td>0</td>\n",
       "      <td>0</td>\n",
       "      <td>1</td>\n",
       "      <td>1</td>\n",
       "      <td>0</td>\n",
       "    </tr>\n",
       "    <tr>\n",
       "      <th>3</th>\n",
       "      <td>1</td>\n",
       "      <td>1</td>\n",
       "      <td>35.0</td>\n",
       "      <td>1</td>\n",
       "      <td>0</td>\n",
       "      <td>53.1000</td>\n",
       "      <td>1</td>\n",
       "      <td>0</td>\n",
       "      <td>0</td>\n",
       "      <td>1</td>\n",
       "      <td>1</td>\n",
       "      <td>0</td>\n",
       "    </tr>\n",
       "    <tr>\n",
       "      <th>4</th>\n",
       "      <td>0</td>\n",
       "      <td>3</td>\n",
       "      <td>35.0</td>\n",
       "      <td>0</td>\n",
       "      <td>0</td>\n",
       "      <td>8.0500</td>\n",
       "      <td>0</td>\n",
       "      <td>0</td>\n",
       "      <td>0</td>\n",
       "      <td>1</td>\n",
       "      <td>0</td>\n",
       "      <td>1</td>\n",
       "    </tr>\n",
       "    <tr>\n",
       "      <th>...</th>\n",
       "      <td>...</td>\n",
       "      <td>...</td>\n",
       "      <td>...</td>\n",
       "      <td>...</td>\n",
       "      <td>...</td>\n",
       "      <td>...</td>\n",
       "      <td>...</td>\n",
       "      <td>...</td>\n",
       "      <td>...</td>\n",
       "      <td>...</td>\n",
       "      <td>...</td>\n",
       "      <td>...</td>\n",
       "    </tr>\n",
       "    <tr>\n",
       "      <th>886</th>\n",
       "      <td>0</td>\n",
       "      <td>2</td>\n",
       "      <td>27.0</td>\n",
       "      <td>0</td>\n",
       "      <td>0</td>\n",
       "      <td>13.0000</td>\n",
       "      <td>0</td>\n",
       "      <td>0</td>\n",
       "      <td>0</td>\n",
       "      <td>1</td>\n",
       "      <td>0</td>\n",
       "      <td>1</td>\n",
       "    </tr>\n",
       "    <tr>\n",
       "      <th>887</th>\n",
       "      <td>1</td>\n",
       "      <td>1</td>\n",
       "      <td>19.0</td>\n",
       "      <td>0</td>\n",
       "      <td>0</td>\n",
       "      <td>30.0000</td>\n",
       "      <td>1</td>\n",
       "      <td>0</td>\n",
       "      <td>0</td>\n",
       "      <td>1</td>\n",
       "      <td>1</td>\n",
       "      <td>0</td>\n",
       "    </tr>\n",
       "    <tr>\n",
       "      <th>888</th>\n",
       "      <td>0</td>\n",
       "      <td>3</td>\n",
       "      <td>28.0</td>\n",
       "      <td>1</td>\n",
       "      <td>2</td>\n",
       "      <td>23.4500</td>\n",
       "      <td>0</td>\n",
       "      <td>0</td>\n",
       "      <td>0</td>\n",
       "      <td>1</td>\n",
       "      <td>1</td>\n",
       "      <td>0</td>\n",
       "    </tr>\n",
       "    <tr>\n",
       "      <th>889</th>\n",
       "      <td>1</td>\n",
       "      <td>1</td>\n",
       "      <td>26.0</td>\n",
       "      <td>0</td>\n",
       "      <td>0</td>\n",
       "      <td>30.0000</td>\n",
       "      <td>1</td>\n",
       "      <td>1</td>\n",
       "      <td>0</td>\n",
       "      <td>0</td>\n",
       "      <td>0</td>\n",
       "      <td>1</td>\n",
       "    </tr>\n",
       "    <tr>\n",
       "      <th>890</th>\n",
       "      <td>0</td>\n",
       "      <td>3</td>\n",
       "      <td>32.0</td>\n",
       "      <td>0</td>\n",
       "      <td>0</td>\n",
       "      <td>7.7500</td>\n",
       "      <td>0</td>\n",
       "      <td>0</td>\n",
       "      <td>1</td>\n",
       "      <td>0</td>\n",
       "      <td>0</td>\n",
       "      <td>1</td>\n",
       "    </tr>\n",
       "  </tbody>\n",
       "</table>\n",
       "<p>891 rows × 12 columns</p>\n",
       "</div>"
      ],
      "text/plain": [
       "     Survived  Pclass   Age  SibSp  Parch     Fare  Cabin  Emabrked_Cherbough  \\\n",
       "0           0       3  22.0      1      0   7.2500      0                   0   \n",
       "1           1       1  38.0      1      0  71.2833      1                   1   \n",
       "2           1       3  26.0      0      0   7.9250      0                   0   \n",
       "3           1       1  35.0      1      0  53.1000      1                   0   \n",
       "4           0       3  35.0      0      0   8.0500      0                   0   \n",
       "..        ...     ...   ...    ...    ...      ...    ...                 ...   \n",
       "886         0       2  27.0      0      0  13.0000      0                   0   \n",
       "887         1       1  19.0      0      0  30.0000      1                   0   \n",
       "888         0       3  28.0      1      2  23.4500      0                   0   \n",
       "889         1       1  26.0      0      0  30.0000      1                   1   \n",
       "890         0       3  32.0      0      0   7.7500      0                   0   \n",
       "\n",
       "     Embarked_Queenstown  Embarked_Southampton  female  male  \n",
       "0                      0                     1       0     1  \n",
       "1                      0                     0       1     0  \n",
       "2                      0                     1       1     0  \n",
       "3                      0                     1       1     0  \n",
       "4                      0                     1       0     1  \n",
       "..                   ...                   ...     ...   ...  \n",
       "886                    0                     1       0     1  \n",
       "887                    0                     1       1     0  \n",
       "888                    0                     1       1     0  \n",
       "889                    0                     0       0     1  \n",
       "890                    1                     0       0     1  \n",
       "\n",
       "[891 rows x 12 columns]"
      ]
     },
     "execution_count": 25,
     "metadata": {},
     "output_type": "execute_result"
    }
   ],
   "source": [
    "data"
   ]
  },
  {
   "cell_type": "markdown",
   "id": "fba6eb64-3cc1-422c-af20-400dd721f842",
   "metadata": {},
   "source": [
    "<br>"
   ]
  },
  {
   "cell_type": "markdown",
   "id": "b32e0b89-4e3d-49b3-ad86-ca62a1017b70",
   "metadata": {},
   "source": [
    "## Step4: Splitting Data into Train & Test"
   ]
  },
  {
   "cell_type": "code",
   "execution_count": 26,
   "id": "426bc667-61b4-47c3-b337-daa3e07fb73e",
   "metadata": {},
   "outputs": [],
   "source": [
    "X = data.drop('Survived',axis=1).values\n",
    "y = data['Survived'].values"
   ]
  },
  {
   "cell_type": "code",
   "execution_count": 27,
   "id": "7f1276b8-e37b-4c5b-ba28-34ae1c51ab9e",
   "metadata": {},
   "outputs": [],
   "source": [
    "from sklearn.model_selection import train_test_split"
   ]
  },
  {
   "cell_type": "code",
   "execution_count": 28,
   "id": "de136181-5a26-4a57-8149-4f91d4b52b20",
   "metadata": {},
   "outputs": [],
   "source": [
    "X_train, X_test, y_train, y_test = train_test_split(X,y,test_size=0.10)"
   ]
  },
  {
   "cell_type": "markdown",
   "id": "23874fbf-11b1-4d93-91cc-43e6282cd031",
   "metadata": {},
   "source": [
    "<br>"
   ]
  },
  {
   "cell_type": "markdown",
   "id": "e945f8da-52f8-421f-8d67-d60b41006f29",
   "metadata": {
    "tags": []
   },
   "source": [
    "## Step5: Scaling Data "
   ]
  },
  {
   "cell_type": "code",
   "execution_count": 29,
   "id": "2d51febd-d29a-4bad-972e-5904ae314399",
   "metadata": {},
   "outputs": [],
   "source": [
    "from sklearn.preprocessing import MinMaxScaler"
   ]
  },
  {
   "cell_type": "code",
   "execution_count": 30,
   "id": "d9b85170-a404-4246-b288-73e191f8033e",
   "metadata": {},
   "outputs": [],
   "source": [
    "scaler = MinMaxScaler()"
   ]
  },
  {
   "cell_type": "code",
   "execution_count": 31,
   "id": "49fef9cd-fd0f-44b9-b5d2-e0c88248c46b",
   "metadata": {},
   "outputs": [
    {
     "data": {
      "text/plain": [
       "MinMaxScaler()"
      ]
     },
     "execution_count": 31,
     "metadata": {},
     "output_type": "execute_result"
    }
   ],
   "source": [
    "scaler.fit(X_train)"
   ]
  },
  {
   "cell_type": "code",
   "execution_count": 32,
   "id": "532eddd4-c295-478f-9072-bf2b771c15bd",
   "metadata": {},
   "outputs": [],
   "source": [
    "X_train = scaler.transform(X_train)\n",
    "X_test = scaler.transform(X_test)"
   ]
  },
  {
   "cell_type": "code",
   "execution_count": 33,
   "id": "e4d7e0ad-fb89-4774-b286-2af4f8e32177",
   "metadata": {},
   "outputs": [
    {
     "data": {
      "text/plain": [
       "(801, 11)"
      ]
     },
     "execution_count": 33,
     "metadata": {},
     "output_type": "execute_result"
    }
   ],
   "source": [
    "X_train.shape"
   ]
  },
  {
   "cell_type": "code",
   "execution_count": 34,
   "id": "ec69a4be-38c2-4bda-8c46-ce5e70b83d59",
   "metadata": {},
   "outputs": [
    {
     "data": {
      "text/plain": [
       "(90, 11)"
      ]
     },
     "execution_count": 34,
     "metadata": {},
     "output_type": "execute_result"
    }
   ],
   "source": [
    "X_test.shape"
   ]
  },
  {
   "cell_type": "markdown",
   "id": "5f0e5eff-9828-4c2e-a038-0b5f38cd723d",
   "metadata": {},
   "source": [
    "<br>"
   ]
  },
  {
   "cell_type": "markdown",
   "id": "c56a0dab-f73b-45a7-8009-c93cf2894f1c",
   "metadata": {},
   "source": [
    "## Step6: Creating Model"
   ]
  },
  {
   "cell_type": "raw",
   "id": "ad108b69-9306-4c21-93ba-7e5a120ca263",
   "metadata": {},
   "source": [
    "!pip install tensorflow"
   ]
  },
  {
   "cell_type": "code",
   "execution_count": 35,
   "id": "92f5baa0-cbf0-4603-9188-259fcb3c344c",
   "metadata": {},
   "outputs": [],
   "source": [
    "import tensorflow as tf\n",
    "from tensorflow.keras.models import Sequential\n",
    "from tensorflow.keras.layers import Dense, Activation,Dropout"
   ]
  },
  {
   "cell_type": "code",
   "execution_count": 63,
   "id": "f2ac28cb-444d-44f6-ab34-79861e2e7e58",
   "metadata": {},
   "outputs": [],
   "source": [
    "model = Sequential()\n",
    "\n",
    "model.add(Dense(units=64,activation='relu'))\n",
    "model.add(Dropout(0.5))\n",
    "\n",
    "model.add(Dense(units=64,activation='relu'))\n",
    "model.add(Dropout(0.5))\n",
    "\n",
    "model.add(Dense(units=1,activation='sigmoid'))\n",
    "\n",
    "model.compile(loss='binary_crossentropy', optimizer='adam', metrics='acc')"
   ]
  },
  {
   "cell_type": "markdown",
   "id": "c1b40a16-0335-4d22-b74f-a5dd51e48023",
   "metadata": {},
   "source": [
    "<br>"
   ]
  },
  {
   "cell_type": "markdown",
   "id": "57f32506-eae3-4de6-af99-2277dd10d224",
   "metadata": {},
   "source": [
    "## Step7: Training Model"
   ]
  },
  {
   "cell_type": "code",
   "execution_count": 64,
   "id": "391a82a0-0618-4d3c-8a15-dfd8ec65bf33",
   "metadata": {},
   "outputs": [],
   "source": [
    "from tensorflow.keras.callbacks import EarlyStopping"
   ]
  },
  {
   "cell_type": "code",
   "execution_count": 65,
   "id": "a5b94831-e3dd-453d-8554-94a02a6a0233",
   "metadata": {},
   "outputs": [],
   "source": [
    "early_stop = EarlyStopping(monitor='val_loss', mode='min', verbose=1, patience=25)"
   ]
  },
  {
   "cell_type": "code",
   "execution_count": 66,
   "id": "9cd322c3-dd8d-4fd2-9cc0-ad3ebde9113c",
   "metadata": {},
   "outputs": [
    {
     "name": "stdout",
     "output_type": "stream",
     "text": [
      "Epoch 1/300\n",
      "26/26 [==============================] - 1s 7ms/step - loss: 0.6506 - acc: 0.6330 - val_loss: 0.6393 - val_acc: 0.5556\n",
      "Epoch 2/300\n",
      "26/26 [==============================] - 0s 3ms/step - loss: 0.5889 - acc: 0.7066 - val_loss: 0.6026 - val_acc: 0.6556\n",
      "Epoch 3/300\n",
      "26/26 [==============================] - 0s 3ms/step - loss: 0.5277 - acc: 0.7466 - val_loss: 0.5606 - val_acc: 0.7889\n",
      "Epoch 4/300\n",
      "26/26 [==============================] - 0s 3ms/step - loss: 0.5047 - acc: 0.7703 - val_loss: 0.5352 - val_acc: 0.7667\n",
      "Epoch 5/300\n",
      "26/26 [==============================] - 0s 3ms/step - loss: 0.4912 - acc: 0.7815 - val_loss: 0.5177 - val_acc: 0.7556\n",
      "Epoch 6/300\n",
      "26/26 [==============================] - 0s 3ms/step - loss: 0.5107 - acc: 0.7653 - val_loss: 0.5094 - val_acc: 0.7667\n",
      "Epoch 7/300\n",
      "26/26 [==============================] - 0s 3ms/step - loss: 0.4899 - acc: 0.7853 - val_loss: 0.5030 - val_acc: 0.7667\n",
      "Epoch 8/300\n",
      "26/26 [==============================] - 0s 3ms/step - loss: 0.4684 - acc: 0.7903 - val_loss: 0.4982 - val_acc: 0.7778\n",
      "Epoch 9/300\n",
      "26/26 [==============================] - 0s 3ms/step - loss: 0.4803 - acc: 0.7978 - val_loss: 0.4902 - val_acc: 0.7667\n",
      "Epoch 10/300\n",
      "26/26 [==============================] - 0s 3ms/step - loss: 0.4672 - acc: 0.8077 - val_loss: 0.4916 - val_acc: 0.7889\n",
      "Epoch 11/300\n",
      "26/26 [==============================] - 0s 3ms/step - loss: 0.4675 - acc: 0.8015 - val_loss: 0.4855 - val_acc: 0.7889\n",
      "Epoch 12/300\n",
      "26/26 [==============================] - 0s 3ms/step - loss: 0.4621 - acc: 0.8015 - val_loss: 0.4779 - val_acc: 0.7889\n",
      "Epoch 13/300\n",
      "26/26 [==============================] - 0s 3ms/step - loss: 0.4694 - acc: 0.7853 - val_loss: 0.4755 - val_acc: 0.8111\n",
      "Epoch 14/300\n",
      "26/26 [==============================] - 0s 3ms/step - loss: 0.4660 - acc: 0.7965 - val_loss: 0.4712 - val_acc: 0.8111\n",
      "Epoch 15/300\n",
      "26/26 [==============================] - 0s 3ms/step - loss: 0.4578 - acc: 0.7940 - val_loss: 0.4666 - val_acc: 0.8111\n",
      "Epoch 16/300\n",
      "26/26 [==============================] - 0s 3ms/step - loss: 0.4616 - acc: 0.7990 - val_loss: 0.4648 - val_acc: 0.8111\n",
      "Epoch 17/300\n",
      "26/26 [==============================] - 0s 3ms/step - loss: 0.4638 - acc: 0.8077 - val_loss: 0.4636 - val_acc: 0.8222\n",
      "Epoch 18/300\n",
      "26/26 [==============================] - 0s 2ms/step - loss: 0.4421 - acc: 0.7965 - val_loss: 0.4628 - val_acc: 0.8333\n",
      "Epoch 19/300\n",
      "26/26 [==============================] - 0s 3ms/step - loss: 0.4622 - acc: 0.8015 - val_loss: 0.4600 - val_acc: 0.8222\n",
      "Epoch 20/300\n",
      "26/26 [==============================] - 0s 3ms/step - loss: 0.4502 - acc: 0.8015 - val_loss: 0.4591 - val_acc: 0.8333\n",
      "Epoch 21/300\n",
      "26/26 [==============================] - 0s 3ms/step - loss: 0.4735 - acc: 0.7990 - val_loss: 0.4568 - val_acc: 0.8111\n",
      "Epoch 22/300\n",
      "26/26 [==============================] - 0s 3ms/step - loss: 0.4416 - acc: 0.8115 - val_loss: 0.4529 - val_acc: 0.8333\n",
      "Epoch 23/300\n",
      "26/26 [==============================] - 0s 3ms/step - loss: 0.4566 - acc: 0.8052 - val_loss: 0.4526 - val_acc: 0.8222\n",
      "Epoch 24/300\n",
      "26/26 [==============================] - 0s 3ms/step - loss: 0.4525 - acc: 0.8052 - val_loss: 0.4493 - val_acc: 0.8222\n",
      "Epoch 25/300\n",
      "26/26 [==============================] - 0s 3ms/step - loss: 0.4502 - acc: 0.8040 - val_loss: 0.4491 - val_acc: 0.8111\n",
      "Epoch 26/300\n",
      "26/26 [==============================] - 0s 3ms/step - loss: 0.4441 - acc: 0.8190 - val_loss: 0.4484 - val_acc: 0.8111\n",
      "Epoch 27/300\n",
      "26/26 [==============================] - 0s 3ms/step - loss: 0.4528 - acc: 0.8102 - val_loss: 0.4433 - val_acc: 0.8333\n",
      "Epoch 28/300\n",
      "26/26 [==============================] - 0s 3ms/step - loss: 0.4524 - acc: 0.8140 - val_loss: 0.4457 - val_acc: 0.8111\n",
      "Epoch 29/300\n",
      "26/26 [==============================] - 0s 3ms/step - loss: 0.4454 - acc: 0.8215 - val_loss: 0.4487 - val_acc: 0.8222\n",
      "Epoch 30/300\n",
      "26/26 [==============================] - 0s 3ms/step - loss: 0.4355 - acc: 0.8077 - val_loss: 0.4461 - val_acc: 0.8111\n",
      "Epoch 31/300\n",
      "26/26 [==============================] - 0s 3ms/step - loss: 0.4326 - acc: 0.8102 - val_loss: 0.4437 - val_acc: 0.8111\n",
      "Epoch 32/300\n",
      "26/26 [==============================] - 0s 3ms/step - loss: 0.4385 - acc: 0.8165 - val_loss: 0.4468 - val_acc: 0.8222\n",
      "Epoch 33/300\n",
      "26/26 [==============================] - 0s 3ms/step - loss: 0.4324 - acc: 0.8190 - val_loss: 0.4394 - val_acc: 0.8111\n",
      "Epoch 34/300\n",
      "26/26 [==============================] - 0s 3ms/step - loss: 0.4227 - acc: 0.8152 - val_loss: 0.4385 - val_acc: 0.8111\n",
      "Epoch 35/300\n",
      "26/26 [==============================] - 0s 3ms/step - loss: 0.4459 - acc: 0.8227 - val_loss: 0.4446 - val_acc: 0.8333\n",
      "Epoch 36/300\n",
      "26/26 [==============================] - 0s 4ms/step - loss: 0.4321 - acc: 0.8215 - val_loss: 0.4390 - val_acc: 0.8222\n",
      "Epoch 37/300\n",
      "26/26 [==============================] - 0s 3ms/step - loss: 0.4432 - acc: 0.7978 - val_loss: 0.4412 - val_acc: 0.8222\n",
      "Epoch 38/300\n",
      "26/26 [==============================] - 0s 4ms/step - loss: 0.4294 - acc: 0.8165 - val_loss: 0.4431 - val_acc: 0.8111\n",
      "Epoch 39/300\n",
      "26/26 [==============================] - 0s 4ms/step - loss: 0.4379 - acc: 0.8215 - val_loss: 0.4414 - val_acc: 0.8222\n",
      "Epoch 40/300\n",
      "26/26 [==============================] - 0s 3ms/step - loss: 0.4375 - acc: 0.8177 - val_loss: 0.4399 - val_acc: 0.8000\n",
      "Epoch 41/300\n",
      "26/26 [==============================] - 0s 3ms/step - loss: 0.4469 - acc: 0.8127 - val_loss: 0.4371 - val_acc: 0.8111\n",
      "Epoch 42/300\n",
      "26/26 [==============================] - 0s 3ms/step - loss: 0.4318 - acc: 0.8327 - val_loss: 0.4497 - val_acc: 0.8333\n",
      "Epoch 43/300\n",
      "26/26 [==============================] - 0s 3ms/step - loss: 0.4377 - acc: 0.8165 - val_loss: 0.4451 - val_acc: 0.8111\n",
      "Epoch 44/300\n",
      "26/26 [==============================] - 0s 3ms/step - loss: 0.4466 - acc: 0.8240 - val_loss: 0.4412 - val_acc: 0.8111\n",
      "Epoch 45/300\n",
      "26/26 [==============================] - 0s 3ms/step - loss: 0.4303 - acc: 0.8127 - val_loss: 0.4477 - val_acc: 0.8111\n",
      "Epoch 46/300\n",
      "26/26 [==============================] - 0s 3ms/step - loss: 0.4373 - acc: 0.8202 - val_loss: 0.4431 - val_acc: 0.8111\n",
      "Epoch 47/300\n",
      "26/26 [==============================] - 0s 3ms/step - loss: 0.4411 - acc: 0.8102 - val_loss: 0.4382 - val_acc: 0.8333\n",
      "Epoch 48/300\n",
      "26/26 [==============================] - 0s 3ms/step - loss: 0.4282 - acc: 0.8065 - val_loss: 0.4426 - val_acc: 0.8111\n",
      "Epoch 49/300\n",
      "26/26 [==============================] - 0s 3ms/step - loss: 0.4356 - acc: 0.8227 - val_loss: 0.4427 - val_acc: 0.8111\n",
      "Epoch 50/300\n",
      "26/26 [==============================] - 0s 3ms/step - loss: 0.4285 - acc: 0.8215 - val_loss: 0.4364 - val_acc: 0.8333\n",
      "Epoch 51/300\n",
      "26/26 [==============================] - 0s 3ms/step - loss: 0.4428 - acc: 0.8202 - val_loss: 0.4356 - val_acc: 0.8333\n",
      "Epoch 52/300\n",
      "26/26 [==============================] - 0s 3ms/step - loss: 0.4254 - acc: 0.8252 - val_loss: 0.4392 - val_acc: 0.8111\n",
      "Epoch 53/300\n",
      "26/26 [==============================] - 0s 3ms/step - loss: 0.4435 - acc: 0.8090 - val_loss: 0.4406 - val_acc: 0.8111\n",
      "Epoch 54/300\n",
      "26/26 [==============================] - 0s 3ms/step - loss: 0.4284 - acc: 0.8252 - val_loss: 0.4353 - val_acc: 0.8222\n",
      "Epoch 55/300\n",
      "26/26 [==============================] - 0s 3ms/step - loss: 0.4280 - acc: 0.8065 - val_loss: 0.4365 - val_acc: 0.8111\n",
      "Epoch 56/300\n",
      "26/26 [==============================] - 0s 3ms/step - loss: 0.4393 - acc: 0.8315 - val_loss: 0.4357 - val_acc: 0.8111\n",
      "Epoch 57/300\n",
      "26/26 [==============================] - 0s 3ms/step - loss: 0.4191 - acc: 0.8152 - val_loss: 0.4348 - val_acc: 0.8333\n",
      "Epoch 58/300\n",
      "26/26 [==============================] - 0s 3ms/step - loss: 0.4373 - acc: 0.8140 - val_loss: 0.4370 - val_acc: 0.8333\n",
      "Epoch 59/300\n",
      "26/26 [==============================] - 0s 3ms/step - loss: 0.4387 - acc: 0.8202 - val_loss: 0.4343 - val_acc: 0.8333\n",
      "Epoch 60/300\n",
      "26/26 [==============================] - 0s 4ms/step - loss: 0.4146 - acc: 0.8265 - val_loss: 0.4320 - val_acc: 0.8222\n",
      "Epoch 61/300\n",
      "26/26 [==============================] - 0s 3ms/step - loss: 0.4271 - acc: 0.8215 - val_loss: 0.4337 - val_acc: 0.8222\n",
      "Epoch 62/300\n",
      "26/26 [==============================] - 0s 3ms/step - loss: 0.4258 - acc: 0.8252 - val_loss: 0.4336 - val_acc: 0.8222\n",
      "Epoch 63/300\n",
      "26/26 [==============================] - 0s 3ms/step - loss: 0.4231 - acc: 0.8252 - val_loss: 0.4310 - val_acc: 0.8222\n",
      "Epoch 64/300\n",
      "26/26 [==============================] - 0s 3ms/step - loss: 0.4196 - acc: 0.8265 - val_loss: 0.4334 - val_acc: 0.8222\n",
      "Epoch 65/300\n",
      "26/26 [==============================] - 0s 3ms/step - loss: 0.4283 - acc: 0.8190 - val_loss: 0.4310 - val_acc: 0.8111\n",
      "Epoch 66/300\n",
      "26/26 [==============================] - 0s 3ms/step - loss: 0.4066 - acc: 0.8315 - val_loss: 0.4297 - val_acc: 0.8111\n",
      "Epoch 67/300\n",
      "26/26 [==============================] - 0s 3ms/step - loss: 0.4225 - acc: 0.8202 - val_loss: 0.4301 - val_acc: 0.8111\n",
      "Epoch 68/300\n",
      "26/26 [==============================] - 0s 3ms/step - loss: 0.4205 - acc: 0.8127 - val_loss: 0.4318 - val_acc: 0.8111\n",
      "Epoch 69/300\n",
      "26/26 [==============================] - 0s 3ms/step - loss: 0.4161 - acc: 0.8240 - val_loss: 0.4429 - val_acc: 0.8222\n",
      "Epoch 70/300\n",
      "26/26 [==============================] - 0s 2ms/step - loss: 0.4146 - acc: 0.8252 - val_loss: 0.4319 - val_acc: 0.8111\n",
      "Epoch 71/300\n",
      "26/26 [==============================] - 0s 3ms/step - loss: 0.4333 - acc: 0.8140 - val_loss: 0.4292 - val_acc: 0.8111\n",
      "Epoch 72/300\n",
      "26/26 [==============================] - 0s 2ms/step - loss: 0.4234 - acc: 0.8240 - val_loss: 0.4285 - val_acc: 0.8111\n",
      "Epoch 73/300\n",
      "26/26 [==============================] - 0s 2ms/step - loss: 0.4216 - acc: 0.8265 - val_loss: 0.4297 - val_acc: 0.8111\n",
      "Epoch 74/300\n",
      "26/26 [==============================] - 0s 3ms/step - loss: 0.4225 - acc: 0.8240 - val_loss: 0.4249 - val_acc: 0.8333\n",
      "Epoch 75/300\n",
      "26/26 [==============================] - 0s 3ms/step - loss: 0.4157 - acc: 0.8115 - val_loss: 0.4238 - val_acc: 0.8111\n",
      "Epoch 76/300\n",
      "26/26 [==============================] - 0s 3ms/step - loss: 0.4302 - acc: 0.8265 - val_loss: 0.4268 - val_acc: 0.8111\n",
      "Epoch 77/300\n",
      "26/26 [==============================] - 0s 3ms/step - loss: 0.4206 - acc: 0.8190 - val_loss: 0.4265 - val_acc: 0.8111\n",
      "Epoch 78/300\n",
      "26/26 [==============================] - 0s 3ms/step - loss: 0.4248 - acc: 0.8140 - val_loss: 0.4204 - val_acc: 0.8111\n",
      "Epoch 79/300\n",
      "26/26 [==============================] - 0s 3ms/step - loss: 0.4195 - acc: 0.8215 - val_loss: 0.4243 - val_acc: 0.8111\n",
      "Epoch 80/300\n",
      "26/26 [==============================] - 0s 3ms/step - loss: 0.4068 - acc: 0.8240 - val_loss: 0.4263 - val_acc: 0.8111\n",
      "Epoch 81/300\n",
      "26/26 [==============================] - 0s 2ms/step - loss: 0.4249 - acc: 0.8277 - val_loss: 0.4231 - val_acc: 0.8222\n",
      "Epoch 82/300\n",
      "26/26 [==============================] - 0s 3ms/step - loss: 0.4267 - acc: 0.8390 - val_loss: 0.4225 - val_acc: 0.8333\n",
      "Epoch 83/300\n",
      "26/26 [==============================] - 0s 3ms/step - loss: 0.4243 - acc: 0.8365 - val_loss: 0.4235 - val_acc: 0.8333\n",
      "Epoch 84/300\n",
      "26/26 [==============================] - 0s 3ms/step - loss: 0.4105 - acc: 0.8165 - val_loss: 0.4275 - val_acc: 0.8111\n",
      "Epoch 85/300\n",
      "26/26 [==============================] - 0s 3ms/step - loss: 0.4430 - acc: 0.8190 - val_loss: 0.4259 - val_acc: 0.8111\n",
      "Epoch 86/300\n",
      "26/26 [==============================] - 0s 3ms/step - loss: 0.4247 - acc: 0.8240 - val_loss: 0.4264 - val_acc: 0.8111\n",
      "Epoch 87/300\n",
      "26/26 [==============================] - 0s 3ms/step - loss: 0.4071 - acc: 0.8290 - val_loss: 0.4249 - val_acc: 0.8111\n",
      "Epoch 88/300\n",
      "26/26 [==============================] - 0s 3ms/step - loss: 0.4190 - acc: 0.8215 - val_loss: 0.4260 - val_acc: 0.8111\n",
      "Epoch 89/300\n",
      "26/26 [==============================] - 0s 3ms/step - loss: 0.4007 - acc: 0.8277 - val_loss: 0.4260 - val_acc: 0.8111\n",
      "Epoch 90/300\n",
      "26/26 [==============================] - 0s 2ms/step - loss: 0.4141 - acc: 0.8227 - val_loss: 0.4271 - val_acc: 0.8111\n",
      "Epoch 91/300\n",
      "26/26 [==============================] - 0s 3ms/step - loss: 0.4063 - acc: 0.8377 - val_loss: 0.4294 - val_acc: 0.8111\n",
      "Epoch 92/300\n",
      "26/26 [==============================] - 0s 3ms/step - loss: 0.4142 - acc: 0.8302 - val_loss: 0.4275 - val_acc: 0.8111\n",
      "Epoch 93/300\n",
      "26/26 [==============================] - 0s 3ms/step - loss: 0.4103 - acc: 0.8365 - val_loss: 0.4262 - val_acc: 0.8222\n",
      "Epoch 94/300\n",
      "26/26 [==============================] - 0s 3ms/step - loss: 0.4130 - acc: 0.8327 - val_loss: 0.4280 - val_acc: 0.8111\n",
      "Epoch 95/300\n",
      "26/26 [==============================] - 0s 3ms/step - loss: 0.4150 - acc: 0.8290 - val_loss: 0.4252 - val_acc: 0.8111\n",
      "Epoch 96/300\n",
      "26/26 [==============================] - 0s 3ms/step - loss: 0.4159 - acc: 0.8252 - val_loss: 0.4242 - val_acc: 0.8333\n",
      "Epoch 97/300\n",
      "26/26 [==============================] - 0s 3ms/step - loss: 0.4164 - acc: 0.8302 - val_loss: 0.4232 - val_acc: 0.8333\n",
      "Epoch 98/300\n",
      "26/26 [==============================] - 0s 3ms/step - loss: 0.4178 - acc: 0.8240 - val_loss: 0.4281 - val_acc: 0.8222\n",
      "Epoch 99/300\n",
      "26/26 [==============================] - 0s 3ms/step - loss: 0.4067 - acc: 0.8290 - val_loss: 0.4320 - val_acc: 0.8222\n",
      "Epoch 100/300\n",
      "26/26 [==============================] - 0s 3ms/step - loss: 0.4261 - acc: 0.8227 - val_loss: 0.4288 - val_acc: 0.8222\n",
      "Epoch 101/300\n",
      "26/26 [==============================] - 0s 3ms/step - loss: 0.4089 - acc: 0.8315 - val_loss: 0.4305 - val_acc: 0.8111\n",
      "Epoch 102/300\n",
      "26/26 [==============================] - 0s 3ms/step - loss: 0.4184 - acc: 0.8302 - val_loss: 0.4313 - val_acc: 0.8111\n",
      "Epoch 103/300\n",
      "26/26 [==============================] - 0s 3ms/step - loss: 0.4216 - acc: 0.8277 - val_loss: 0.4302 - val_acc: 0.8111\n",
      "Epoch 103: early stopping\n"
     ]
    },
    {
     "data": {
      "text/plain": [
       "<keras.callbacks.History at 0x1e8cd5cf3d0>"
      ]
     },
     "execution_count": 66,
     "metadata": {},
     "output_type": "execute_result"
    }
   ],
   "source": [
    "model.fit(x=X_train, \n",
    "          y=y_train, \n",
    "          epochs=300,\n",
    "          validation_data=(X_test, y_test), verbose=1,\n",
    "          batch_size = 32,\n",
    "          callbacks=[early_stop]\n",
    "          )"
   ]
  },
  {
   "cell_type": "code",
   "execution_count": 70,
   "id": "f3dd8d0d-662d-41c8-80f0-b0fae6ff5513",
   "metadata": {},
   "outputs": [
    {
     "data": {
      "image/png": "[encoded data removed]",
      "text/plain": [
       "<Figure size 432x288 with 1 Axes>"
      ]
     },
     "metadata": {
      "needs_background": "light"
     },
     "output_type": "display_data"
    }
   ],
   "source": [
    "plt.plot(model.history.history['acc'])\n",
    "plt.plot(model.history.history['val_acc'])\n",
    "plt.title('model accuracy')\n",
    "plt.ylabel('accuracy')\n",
    "plt.xlabel('epoch')\n",
    "plt.legend(['train', 'validation'], loc='upper left')\n",
    "plt.show()"
   ]
  },
  {
   "cell_type": "code",
   "execution_count": 71,
   "id": "fc45561d-1055-46e6-bafe-896aeaafa1a9",
   "metadata": {},
   "outputs": [
    {
     "data": {
      "image/png": "[encoded data removed]",
      "text/plain": [
       "<Figure size 432x288 with 1 Axes>"
      ]
     },
     "metadata": {
      "needs_background": "light"
     },
     "output_type": "display_data"
    }
   ],
   "source": [
    "plt.plot(model.history.history['loss'])\n",
    "plt.plot(model.history.history['val_loss'])\n",
    "plt.title('model loss')\n",
    "plt.ylabel('loss')\n",
    "plt.xlabel('epoch')\n",
    "plt.legend(['train', 'validation'], loc='upper left')\n",
    "plt.show()"
   ]
  },
  {
   "cell_type": "code",
   "execution_count": 72,
   "id": "48650581-5a35-4012-b55f-8018d10fe50a",
   "metadata": {},
   "outputs": [
    {
     "name": "stdout",
     "output_type": "stream",
     "text": [
      "Max val_acc achieved: 83.33 %\n",
      "Max acc achieved: 83.90 %\n"
     ]
    }
   ],
   "source": [
    "print('Max val_acc achieved: %.2f' %(max(model.history.history['val_acc'])*100), '%')\n",
    "print('Max acc achieved: %.2f' %(max(model.history.history['acc'])*100), '%')"
   ]
  },
  {
   "cell_type": "markdown",
   "id": "273431dd-5798-43e9-82b5-090cbdb773fc",
   "metadata": {},
   "source": [
    "<br>"
   ]
  },
  {
   "cell_type": "markdown",
   "id": "52a5940d-9a60-4c00-a695-b6d647f7435f",
   "metadata": {},
   "source": [
    "## Step8: Evaluating Model Performance"
   ]
  },
  {
   "cell_type": "code",
   "execution_count": 74,
   "id": "e07148da-3cec-4172-9a1a-7d909a308d6d",
   "metadata": {},
   "outputs": [
    {
     "name": "stdout",
     "output_type": "stream",
     "text": [
      "3/3 [==============================] - 0s 2ms/step\n"
     ]
    }
   ],
   "source": [
    "predictions = (model.predict(X_test) > 0.5).astype(\"int32\")"
   ]
  },
  {
   "cell_type": "code",
   "execution_count": 75,
   "id": "f619ee1d-d2d7-4fed-92c4-d1cf2e01ce58",
   "metadata": {},
   "outputs": [],
   "source": [
    "from sklearn.metrics import classification_report,confusion_matrix"
   ]
  },
  {
   "cell_type": "code",
   "execution_count": 76,
   "id": "c6e336d9-ec08-48dc-81f1-3309e3ffe00b",
   "metadata": {},
   "outputs": [
    {
     "name": "stdout",
     "output_type": "stream",
     "text": [
      "              precision    recall  f1-score   support\n",
      "\n",
      "           0       0.77      0.91      0.83        47\n",
      "           1       0.88      0.70      0.78        43\n",
      "\n",
      "    accuracy                           0.81        90\n",
      "   macro avg       0.83      0.81      0.81        90\n",
      "weighted avg       0.82      0.81      0.81        90\n",
      "\n"
     ]
    }
   ],
   "source": [
    "print(classification_report(y_test,predictions))"
   ]
  },
  {
   "cell_type": "code",
   "execution_count": 77,
   "id": "a9fb98e0-b35b-4281-98a1-5d11ba17028f",
   "metadata": {},
   "outputs": [
    {
     "name": "stdout",
     "output_type": "stream",
     "text": [
      "[[43  4]\n",
      " [13 30]]\n"
     ]
    }
   ],
   "source": [
    "print(confusion_matrix(y_test,predictions))"
   ]
  },
  {
   "cell_type": "markdown",
   "id": "a974253b-b269-4e14-be1e-726be353d424",
   "metadata": {},
   "source": [
    "<br>"
   ]
  },
  {
   "cell_type": "markdown",
   "id": "867c59aa-f593-44b2-807a-cbc8ac3db9f2",
   "metadata": {},
   "source": [
    "## Step9: Submission"
   ]
  },
  {
   "cell_type": "code",
   "execution_count": 79,
   "id": "69a6b8e9-7e37-40ca-a7b1-4a8b1160927a",
   "metadata": {},
   "outputs": [
    {
     "data": {
      "text/html": [
       "<div>\n",
       "<style scoped>\n",
       "    .dataframe tbody tr th:only-of-type {\n",
       "        vertical-align: middle;\n",
       "    }\n",
       "\n",
       "    .dataframe tbody tr th {\n",
       "        vertical-align: top;\n",
       "    }\n",
       "\n",
       "    .dataframe thead th {\n",
       "        text-align: right;\n",
       "    }\n",
       "</style>\n",
       "<table border=\"1\" class=\"dataframe\">\n",
       "  <thead>\n",
       "    <tr style=\"text-align: right;\">\n",
       "      <th></th>\n",
       "      <th>PassengerId</th>\n",
       "      <th>Pclass</th>\n",
       "      <th>Name</th>\n",
       "      <th>Sex</th>\n",
       "      <th>Age</th>\n",
       "      <th>SibSp</th>\n",
       "      <th>Parch</th>\n",
       "      <th>Ticket</th>\n",
       "      <th>Fare</th>\n",
       "      <th>Cabin</th>\n",
       "      <th>Embarked</th>\n",
       "    </tr>\n",
       "  </thead>\n",
       "  <tbody>\n",
       "    <tr>\n",
       "      <th>0</th>\n",
       "      <td>892</td>\n",
       "      <td>3</td>\n",
       "      <td>Kelly, Mr. James</td>\n",
       "      <td>male</td>\n",
       "      <td>34.5</td>\n",
       "      <td>0</td>\n",
       "      <td>0</td>\n",
       "      <td>330911</td>\n",
       "      <td>7.8292</td>\n",
       "      <td>NaN</td>\n",
       "      <td>Q</td>\n",
       "    </tr>\n",
       "    <tr>\n",
       "      <th>1</th>\n",
       "      <td>893</td>\n",
       "      <td>3</td>\n",
       "      <td>Wilkes, Mrs. James (Ellen Needs)</td>\n",
       "      <td>female</td>\n",
       "      <td>47.0</td>\n",
       "      <td>1</td>\n",
       "      <td>0</td>\n",
       "      <td>363272</td>\n",
       "      <td>7.0000</td>\n",
       "      <td>NaN</td>\n",
       "      <td>S</td>\n",
       "    </tr>\n",
       "    <tr>\n",
       "      <th>2</th>\n",
       "      <td>894</td>\n",
       "      <td>2</td>\n",
       "      <td>Myles, Mr. Thomas Francis</td>\n",
       "      <td>male</td>\n",
       "      <td>62.0</td>\n",
       "      <td>0</td>\n",
       "      <td>0</td>\n",
       "      <td>240276</td>\n",
       "      <td>9.6875</td>\n",
       "      <td>NaN</td>\n",
       "      <td>Q</td>\n",
       "    </tr>\n",
       "    <tr>\n",
       "      <th>3</th>\n",
       "      <td>895</td>\n",
       "      <td>3</td>\n",
       "      <td>Wirz, Mr. Albert</td>\n",
       "      <td>male</td>\n",
       "      <td>27.0</td>\n",
       "      <td>0</td>\n",
       "      <td>0</td>\n",
       "      <td>315154</td>\n",
       "      <td>8.6625</td>\n",
       "      <td>NaN</td>\n",
       "      <td>S</td>\n",
       "    </tr>\n",
       "    <tr>\n",
       "      <th>4</th>\n",
       "      <td>896</td>\n",
       "      <td>3</td>\n",
       "      <td>Hirvonen, Mrs. Alexander (Helga E Lindqvist)</td>\n",
       "      <td>female</td>\n",
       "      <td>22.0</td>\n",
       "      <td>1</td>\n",
       "      <td>1</td>\n",
       "      <td>3101298</td>\n",
       "      <td>12.2875</td>\n",
       "      <td>NaN</td>\n",
       "      <td>S</td>\n",
       "    </tr>\n",
       "    <tr>\n",
       "      <th>...</th>\n",
       "      <td>...</td>\n",
       "      <td>...</td>\n",
       "      <td>...</td>\n",
       "      <td>...</td>\n",
       "      <td>...</td>\n",
       "      <td>...</td>\n",
       "      <td>...</td>\n",
       "      <td>...</td>\n",
       "      <td>...</td>\n",
       "      <td>...</td>\n",
       "      <td>...</td>\n",
       "    </tr>\n",
       "    <tr>\n",
       "      <th>413</th>\n",
       "      <td>1305</td>\n",
       "      <td>3</td>\n",
       "      <td>Spector, Mr. Woolf</td>\n",
       "      <td>male</td>\n",
       "      <td>NaN</td>\n",
       "      <td>0</td>\n",
       "      <td>0</td>\n",
       "      <td>A.5. 3236</td>\n",
       "      <td>8.0500</td>\n",
       "      <td>NaN</td>\n",
       "      <td>S</td>\n",
       "    </tr>\n",
       "    <tr>\n",
       "      <th>414</th>\n",
       "      <td>1306</td>\n",
       "      <td>1</td>\n",
       "      <td>Oliva y Ocana, Dona. Fermina</td>\n",
       "      <td>female</td>\n",
       "      <td>39.0</td>\n",
       "      <td>0</td>\n",
       "      <td>0</td>\n",
       "      <td>PC 17758</td>\n",
       "      <td>108.9000</td>\n",
       "      <td>C105</td>\n",
       "      <td>C</td>\n",
       "    </tr>\n",
       "    <tr>\n",
       "      <th>415</th>\n",
       "      <td>1307</td>\n",
       "      <td>3</td>\n",
       "      <td>Saether, Mr. Simon Sivertsen</td>\n",
       "      <td>male</td>\n",
       "      <td>38.5</td>\n",
       "      <td>0</td>\n",
       "      <td>0</td>\n",
       "      <td>SOTON/O.Q. 3101262</td>\n",
       "      <td>7.2500</td>\n",
       "      <td>NaN</td>\n",
       "      <td>S</td>\n",
       "    </tr>\n",
       "    <tr>\n",
       "      <th>416</th>\n",
       "      <td>1308</td>\n",
       "      <td>3</td>\n",
       "      <td>Ware, Mr. Frederick</td>\n",
       "      <td>male</td>\n",
       "      <td>NaN</td>\n",
       "      <td>0</td>\n",
       "      <td>0</td>\n",
       "      <td>359309</td>\n",
       "      <td>8.0500</td>\n",
       "      <td>NaN</td>\n",
       "      <td>S</td>\n",
       "    </tr>\n",
       "    <tr>\n",
       "      <th>417</th>\n",
       "      <td>1309</td>\n",
       "      <td>3</td>\n",
       "      <td>Peter, Master. Michael J</td>\n",
       "      <td>male</td>\n",
       "      <td>NaN</td>\n",
       "      <td>1</td>\n",
       "      <td>1</td>\n",
       "      <td>2668</td>\n",
       "      <td>22.3583</td>\n",
       "      <td>NaN</td>\n",
       "      <td>C</td>\n",
       "    </tr>\n",
       "  </tbody>\n",
       "</table>\n",
       "<p>418 rows × 11 columns</p>\n",
       "</div>"
      ],
      "text/plain": [
       "     PassengerId  Pclass                                          Name  \\\n",
       "0            892       3                              Kelly, Mr. James   \n",
       "1            893       3              Wilkes, Mrs. James (Ellen Needs)   \n",
       "2            894       2                     Myles, Mr. Thomas Francis   \n",
       "3            895       3                              Wirz, Mr. Albert   \n",
       "4            896       3  Hirvonen, Mrs. Alexander (Helga E Lindqvist)   \n",
       "..           ...     ...                                           ...   \n",
       "413         1305       3                            Spector, Mr. Woolf   \n",
       "414         1306       1                  Oliva y Ocana, Dona. Fermina   \n",
       "415         1307       3                  Saether, Mr. Simon Sivertsen   \n",
       "416         1308       3                           Ware, Mr. Frederick   \n",
       "417         1309       3                      Peter, Master. Michael J   \n",
       "\n",
       "        Sex   Age  SibSp  Parch              Ticket      Fare Cabin Embarked  \n",
       "0      male  34.5      0      0              330911    7.8292   NaN        Q  \n",
       "1    female  47.0      1      0              363272    7.0000   NaN        S  \n",
       "2      male  62.0      0      0              240276    9.6875   NaN        Q  \n",
       "3      male  27.0      0      0              315154    8.6625   NaN        S  \n",
       "4    female  22.0      1      1             3101298   12.2875   NaN        S  \n",
       "..      ...   ...    ...    ...                 ...       ...   ...      ...  \n",
       "413    male   NaN      0      0           A.5. 3236    8.0500   NaN        S  \n",
       "414  female  39.0      0      0            PC 17758  108.9000  C105        C  \n",
       "415    male  38.5      0      0  SOTON/O.Q. 3101262    7.2500   NaN        S  \n",
       "416    male   NaN      0      0              359309    8.0500   NaN        S  \n",
       "417    male   NaN      1      1                2668   22.3583   NaN        C  \n",
       "\n",
       "[418 rows x 11 columns]"
      ]
     },
     "execution_count": 79,
     "metadata": {},
     "output_type": "execute_result"
    }
   ],
   "source": [
    "test_data = pd.read_csv('test.csv')\n",
    "test_data"
   ]
  },
  {
   "cell_type": "raw",
   "id": "f9b3879a-3131-4415-b01a-822e8aa9c9de",
   "metadata": {},
   "source": [
    "TODO"
   ]
  },
  {
   "cell_type": "raw",
   "id": "a090dd3a-341c-46dd-93c7-8eb265a0f222",
   "metadata": {},
   "source": [
    "test_model = scaler.transform(test_model)"
   ]
  },
  {
   "cell_type": "code",
   "execution_count": 87,
   "id": "7b45e57a-81a6-4012-b94c-93234a7b1efc",
   "metadata": {},
   "outputs": [
    {
     "data": {
      "text/plain": [
       "(418, 11)"
      ]
     },
     "execution_count": 87,
     "metadata": {},
     "output_type": "execute_result"
    }
   ],
   "source": [
    "test_data.shape"
   ]
  },
  {
   "cell_type": "code",
   "execution_count": null,
   "id": "f4406c73-3731-4aba-adbe-0ddfd31fe265",
   "metadata": {},
   "outputs": [],
   "source": []
  }
 ],
 "metadata": {
  "kernelspec": {
   "display_name": "Python 3 (ipykernel)",
   "language": "python",
   "name": "python3"
  },
  "language_info": {
   "codemirror_mode": {
    "name": "ipython",
    "version": 3
   },
   "file_extension": ".py",
   "mimetype": "text/x-python",
   "name": "python",
   "nbconvert_exporter": "python",
   "pygments_lexer": "ipython3",
   "version": "3.9.7"
  }
 },
 "nbformat": 4,
 "nbformat_minor": 5
}
